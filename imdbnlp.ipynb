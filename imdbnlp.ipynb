{
 "cells": [
  {
   "cell_type": "code",
   "execution_count": 56,
   "metadata": {},
   "outputs": [
    {
     "name": "stderr",
     "output_type": "stream",
     "text": [
      "[nltk_data] Downloading package stopwords to /Users/mac/nltk_data...\n",
      "[nltk_data]   Package stopwords is already up-to-date!\n"
     ]
    }
   ],
   "source": [
    "# import libraries\n",
    "\n",
    "import pandas as pd\n",
    "import re\n",
    "import plotly.express as px \n",
    "import seaborn as sns\n",
    "import matplotlib.pyplot as plt\n",
    "import nltk \n",
    "from nltk.corpus import stopwords\n",
    "from bs4 import BeautifulSoup\n",
    "from sklearn.feature_extraction.text import CountVectorizer\n",
    "count= CountVectorizer()\n",
    "from nltk.stem.porter import PorterStemmer\n",
    "import wordcloud\n",
    "\n",
    "nltk.download('stopwords')\n",
    "stop = stopwords.words('english')\n"
   ]
  },
  {
   "cell_type": "code",
   "execution_count": 44,
   "metadata": {},
   "outputs": [
    {
     "name": "stdout",
     "output_type": "stream",
     "text": [
      "                                                    text  label\n",
      "0      I grew up (b. 1965) watching and loving the Th...      0\n",
      "1      When I put this movie in my DVD player, and sa...      0\n",
      "2      Why do people who do not know what a particula...      0\n",
      "3      Even though I have great interest in Biblical ...      0\n",
      "4      Im a die hard Dads Army fan and nothing will e...      1\n",
      "...                                                  ...    ...\n",
      "39995  \"Western Union\" is something of a forgotten cl...      1\n",
      "39996  This movie is an incredible piece of work. It ...      1\n",
      "39997  My wife and I watched this movie because we pl...      0\n",
      "39998  When I first watched Flatliners, I was amazed....      1\n",
      "39999  Why would this film be so good, but only gross...      1\n",
      "\n",
      "[40000 rows x 2 columns]\n"
     ]
    }
   ],
   "source": [
    "df = pd.read_csv('/Users/mac/Downloads/Train.csv')\n",
    "print(df)"
   ]
  },
  {
   "cell_type": "code",
   "execution_count": 45,
   "metadata": {},
   "outputs": [
    {
     "data": {
      "text/html": [
       "<div>\n",
       "<style scoped>\n",
       "    .dataframe tbody tr th:only-of-type {\n",
       "        vertical-align: middle;\n",
       "    }\n",
       "\n",
       "    .dataframe tbody tr th {\n",
       "        vertical-align: top;\n",
       "    }\n",
       "\n",
       "    .dataframe thead th {\n",
       "        text-align: right;\n",
       "    }\n",
       "</style>\n",
       "<table border=\"1\" class=\"dataframe\">\n",
       "  <thead>\n",
       "    <tr style=\"text-align: right;\">\n",
       "      <th></th>\n",
       "      <th>text</th>\n",
       "      <th>label</th>\n",
       "    </tr>\n",
       "  </thead>\n",
       "  <tbody>\n",
       "    <tr>\n",
       "      <th>0</th>\n",
       "      <td>I grew up (b. 1965) watching and loving the Th...</td>\n",
       "      <td>0</td>\n",
       "    </tr>\n",
       "    <tr>\n",
       "      <th>1</th>\n",
       "      <td>When I put this movie in my DVD player, and sa...</td>\n",
       "      <td>0</td>\n",
       "    </tr>\n",
       "    <tr>\n",
       "      <th>2</th>\n",
       "      <td>Why do people who do not know what a particula...</td>\n",
       "      <td>0</td>\n",
       "    </tr>\n",
       "    <tr>\n",
       "      <th>3</th>\n",
       "      <td>Even though I have great interest in Biblical ...</td>\n",
       "      <td>0</td>\n",
       "    </tr>\n",
       "    <tr>\n",
       "      <th>4</th>\n",
       "      <td>Im a die hard Dads Army fan and nothing will e...</td>\n",
       "      <td>1</td>\n",
       "    </tr>\n",
       "    <tr>\n",
       "      <th>5</th>\n",
       "      <td>A terrible movie as everyone has said. What ma...</td>\n",
       "      <td>0</td>\n",
       "    </tr>\n",
       "    <tr>\n",
       "      <th>6</th>\n",
       "      <td>Finally watched this shocking movie last night...</td>\n",
       "      <td>1</td>\n",
       "    </tr>\n",
       "    <tr>\n",
       "      <th>7</th>\n",
       "      <td>I caught this film on AZN on cable. It sounded...</td>\n",
       "      <td>0</td>\n",
       "    </tr>\n",
       "    <tr>\n",
       "      <th>8</th>\n",
       "      <td>It may be the remake of 1987 Autumn's Tale aft...</td>\n",
       "      <td>1</td>\n",
       "    </tr>\n",
       "    <tr>\n",
       "      <th>9</th>\n",
       "      <td>My Super Ex Girlfriend turned out to be a plea...</td>\n",
       "      <td>1</td>\n",
       "    </tr>\n",
       "  </tbody>\n",
       "</table>\n",
       "</div>"
      ],
      "text/plain": [
       "                                                text  label\n",
       "0  I grew up (b. 1965) watching and loving the Th...      0\n",
       "1  When I put this movie in my DVD player, and sa...      0\n",
       "2  Why do people who do not know what a particula...      0\n",
       "3  Even though I have great interest in Biblical ...      0\n",
       "4  Im a die hard Dads Army fan and nothing will e...      1\n",
       "5  A terrible movie as everyone has said. What ma...      0\n",
       "6  Finally watched this shocking movie last night...      1\n",
       "7  I caught this film on AZN on cable. It sounded...      0\n",
       "8  It may be the remake of 1987 Autumn's Tale aft...      1\n",
       "9  My Super Ex Girlfriend turned out to be a plea...      1"
      ]
     },
     "execution_count": 45,
     "metadata": {},
     "output_type": "execute_result"
    }
   ],
   "source": [
    "df.head(10)"
   ]
  },
  {
   "cell_type": "code",
   "execution_count": 46,
   "metadata": {},
   "outputs": [
    {
     "data": {
      "text/html": [
       "<div>\n",
       "<style scoped>\n",
       "    .dataframe tbody tr th:only-of-type {\n",
       "        vertical-align: middle;\n",
       "    }\n",
       "\n",
       "    .dataframe tbody tr th {\n",
       "        vertical-align: top;\n",
       "    }\n",
       "\n",
       "    .dataframe thead th {\n",
       "        text-align: right;\n",
       "    }\n",
       "</style>\n",
       "<table border=\"1\" class=\"dataframe\">\n",
       "  <thead>\n",
       "    <tr style=\"text-align: right;\">\n",
       "      <th></th>\n",
       "      <th>text</th>\n",
       "      <th>label</th>\n",
       "    </tr>\n",
       "  </thead>\n",
       "  <tbody>\n",
       "    <tr>\n",
       "      <th>39990</th>\n",
       "      <td>I really love anything done by Savage Steve Ho...</td>\n",
       "      <td>1</td>\n",
       "    </tr>\n",
       "    <tr>\n",
       "      <th>39991</th>\n",
       "      <td>Revenge is the theme of this Denzel Washington...</td>\n",
       "      <td>1</td>\n",
       "    </tr>\n",
       "    <tr>\n",
       "      <th>39992</th>\n",
       "      <td>Although I agree that it's a good but not grea...</td>\n",
       "      <td>1</td>\n",
       "    </tr>\n",
       "    <tr>\n",
       "      <th>39993</th>\n",
       "      <td>\"The Best Movie of the 90's\" \"The Welsh Trains...</td>\n",
       "      <td>0</td>\n",
       "    </tr>\n",
       "    <tr>\n",
       "      <th>39994</th>\n",
       "      <td>My girlfriend has the habit of going to Blockb...</td>\n",
       "      <td>0</td>\n",
       "    </tr>\n",
       "    <tr>\n",
       "      <th>39995</th>\n",
       "      <td>\"Western Union\" is something of a forgotten cl...</td>\n",
       "      <td>1</td>\n",
       "    </tr>\n",
       "    <tr>\n",
       "      <th>39996</th>\n",
       "      <td>This movie is an incredible piece of work. It ...</td>\n",
       "      <td>1</td>\n",
       "    </tr>\n",
       "    <tr>\n",
       "      <th>39997</th>\n",
       "      <td>My wife and I watched this movie because we pl...</td>\n",
       "      <td>0</td>\n",
       "    </tr>\n",
       "    <tr>\n",
       "      <th>39998</th>\n",
       "      <td>When I first watched Flatliners, I was amazed....</td>\n",
       "      <td>1</td>\n",
       "    </tr>\n",
       "    <tr>\n",
       "      <th>39999</th>\n",
       "      <td>Why would this film be so good, but only gross...</td>\n",
       "      <td>1</td>\n",
       "    </tr>\n",
       "  </tbody>\n",
       "</table>\n",
       "</div>"
      ],
      "text/plain": [
       "                                                    text  label\n",
       "39990  I really love anything done by Savage Steve Ho...      1\n",
       "39991  Revenge is the theme of this Denzel Washington...      1\n",
       "39992  Although I agree that it's a good but not grea...      1\n",
       "39993  \"The Best Movie of the 90's\" \"The Welsh Trains...      0\n",
       "39994  My girlfriend has the habit of going to Blockb...      0\n",
       "39995  \"Western Union\" is something of a forgotten cl...      1\n",
       "39996  This movie is an incredible piece of work. It ...      1\n",
       "39997  My wife and I watched this movie because we pl...      0\n",
       "39998  When I first watched Flatliners, I was amazed....      1\n",
       "39999  Why would this film be so good, but only gross...      1"
      ]
     },
     "execution_count": 46,
     "metadata": {},
     "output_type": "execute_result"
    }
   ],
   "source": [
    "df.tail(10)"
   ]
  },
  {
   "cell_type": "code",
   "execution_count": 47,
   "metadata": {},
   "outputs": [
    {
     "name": "stdout",
     "output_type": "stream",
     "text": [
      "text     0\n",
      "label    0\n",
      "dtype: int64\n"
     ]
    }
   ],
   "source": [
    "# check for duplicates \n",
    "\n",
    "print(df.isnull().sum())"
   ]
  },
  {
   "cell_type": "code",
   "execution_count": 48,
   "metadata": {},
   "outputs": [
    {
     "data": {
      "image/png": "[encoded data removed]",
      "text/plain": [
       "<Figure size 432x288 with 1 Axes>"
      ]
     },
     "metadata": {
      "needs_background": "light"
     },
     "output_type": "display_data"
    }
   ],
   "source": [
    "sns.countplot( x = df['label'], data = df)\n",
    "plt.show()\n"
   ]
  },
  {
   "cell_type": "code",
   "execution_count": 49,
   "metadata": {},
   "outputs": [],
   "source": [
    "def preprocessor(text):\n",
    "             text=re.sub('<[^>]*>','',text)\n",
    "             emojis=re.findall('(?::|;|=)(?:-)?(?:\\)|\\(|D|P)',text)\n",
    "             text=re.sub('[\\W]+',' ',text.lower()) +\\\n",
    "                ' '.join(emojis).replace('-','')\n",
    "             return text "
   ]
  },
  {
   "cell_type": "code",
   "execution_count": 50,
   "metadata": {},
   "outputs": [
    {
     "data": {
      "text/plain": [
       "0        i grew up b 1965 watching and loving the thund...\n",
       "1        when i put this movie in my dvd player and sat...\n",
       "2        why do people who do not know what a particula...\n",
       "3        even though i have great interest in biblical ...\n",
       "4        im a die hard dads army fan and nothing will e...\n",
       "                               ...                        \n",
       "39995     western union is something of a forgotten cla...\n",
       "39996    this movie is an incredible piece of work it e...\n",
       "39997    my wife and i watched this movie because we pl...\n",
       "39998    when i first watched flatliners i was amazed i...\n",
       "39999    why would this film be so good but only gross ...\n",
       "Name: text, Length: 40000, dtype: object"
      ]
     },
     "execution_count": 50,
     "metadata": {},
     "output_type": "execute_result"
    }
   ],
   "source": [
    "df['text'].apply(preprocessor)"
   ]
  },
  {
   "cell_type": "code",
   "execution_count": 51,
   "metadata": {},
   "outputs": [],
   "source": [
    "# use porter stemmer \n",
    "\n",
    "porter = PorterStemmer()\n",
    "def tokenization(text):\n",
    "    return text.split()\n",
    "def porter(text):\n",
    "    return [porter.stem(word) for word in text.split()]"
   ]
  },
  {
   "cell_type": "code",
   "execution_count": 54,
   "metadata": {},
   "outputs": [],
   "source": [
    "positive = df[df['label'] == 1]\n",
    "positive = positive['text']\n",
    "negative = df[df['label'] == 0 ]\n",
    "negative = negative['text']"
   ]
  },
  {
   "cell_type": "code",
   "execution_count": 65,
   "metadata": {},
   "outputs": [],
   "source": [
    "def worcloud_d(df):\n",
    "    worcloud = wordcloud(\n",
    "        background_color = 'white',\n",
    "        width = 1000, \n",
    "        height = 2000\n",
    "    ).generate(str(df))\n",
    "    fig = plt.figure(\n",
    "        figsize = (20,12),\n",
    "        facecolor = 'k',\n",
    "        edgecolor='k' )\n",
    "    plt.imshow(worcloud, interpolation= ' bilinear')\n",
    "    plt.axis('off')\n",
    "    plt.show()\n"
   ]
  },
  {
   "cell_type": "code",
   "execution_count": 72,
   "metadata": {},
   "outputs": [
    {
     "ename": "TypeError",
     "evalue": "'module' object is not callable",
     "output_type": "error",
     "traceback": [
      "\u001b[0;31m---------------------------------------------------------------------------\u001b[0m",
      "\u001b[0;31mTypeError\u001b[0m                                 Traceback (most recent call last)",
      "\u001b[1;32m/Users/mac/Desktop/Data Analysis/imdbnlp.ipynb Cell 12\u001b[0m in \u001b[0;36m<cell line: 2>\u001b[0;34m()\u001b[0m\n\u001b[1;32m      <a href='vscode-notebook-cell:/Users/mac/Desktop/Data%20Analysis/imdbnlp.ipynb#X21sZmlsZQ%3D%3D?line=0'>1</a>\u001b[0m df_text \u001b[39m=\u001b[39m df\u001b[39m.\u001b[39mtext\u001b[39m.\u001b[39mvalues\n\u001b[0;32m----> <a href='vscode-notebook-cell:/Users/mac/Desktop/Data%20Analysis/imdbnlp.ipynb#X21sZmlsZQ%3D%3D?line=1'>2</a>\u001b[0m worcloud_d(df_text)\n",
      "\u001b[1;32m/Users/mac/Desktop/Data Analysis/imdbnlp.ipynb Cell 12\u001b[0m in \u001b[0;36mworcloud_d\u001b[0;34m(df)\u001b[0m\n\u001b[1;32m      <a href='vscode-notebook-cell:/Users/mac/Desktop/Data%20Analysis/imdbnlp.ipynb#X21sZmlsZQ%3D%3D?line=0'>1</a>\u001b[0m \u001b[39mdef\u001b[39;00m \u001b[39mworcloud_d\u001b[39m(df):\n\u001b[0;32m----> <a href='vscode-notebook-cell:/Users/mac/Desktop/Data%20Analysis/imdbnlp.ipynb#X21sZmlsZQ%3D%3D?line=1'>2</a>\u001b[0m     worcloud \u001b[39m=\u001b[39m wordcloud(\n\u001b[1;32m      <a href='vscode-notebook-cell:/Users/mac/Desktop/Data%20Analysis/imdbnlp.ipynb#X21sZmlsZQ%3D%3D?line=2'>3</a>\u001b[0m         background_color \u001b[39m=\u001b[39;49m \u001b[39m'\u001b[39;49m\u001b[39mwhite\u001b[39;49m\u001b[39m'\u001b[39;49m,\n\u001b[1;32m      <a href='vscode-notebook-cell:/Users/mac/Desktop/Data%20Analysis/imdbnlp.ipynb#X21sZmlsZQ%3D%3D?line=3'>4</a>\u001b[0m         width \u001b[39m=\u001b[39;49m \u001b[39m1000\u001b[39;49m, \n\u001b[1;32m      <a href='vscode-notebook-cell:/Users/mac/Desktop/Data%20Analysis/imdbnlp.ipynb#X21sZmlsZQ%3D%3D?line=4'>5</a>\u001b[0m         height \u001b[39m=\u001b[39;49m \u001b[39m2000\u001b[39;49m\n\u001b[1;32m      <a href='vscode-notebook-cell:/Users/mac/Desktop/Data%20Analysis/imdbnlp.ipynb#X21sZmlsZQ%3D%3D?line=5'>6</a>\u001b[0m     )\u001b[39m.\u001b[39mgenerate(\u001b[39mstr\u001b[39m(df))\n\u001b[1;32m      <a href='vscode-notebook-cell:/Users/mac/Desktop/Data%20Analysis/imdbnlp.ipynb#X21sZmlsZQ%3D%3D?line=6'>7</a>\u001b[0m     fig \u001b[39m=\u001b[39m plt\u001b[39m.\u001b[39mfigure(\n\u001b[1;32m      <a href='vscode-notebook-cell:/Users/mac/Desktop/Data%20Analysis/imdbnlp.ipynb#X21sZmlsZQ%3D%3D?line=7'>8</a>\u001b[0m         figsize \u001b[39m=\u001b[39m (\u001b[39m20\u001b[39m,\u001b[39m12\u001b[39m),\n\u001b[1;32m      <a href='vscode-notebook-cell:/Users/mac/Desktop/Data%20Analysis/imdbnlp.ipynb#X21sZmlsZQ%3D%3D?line=8'>9</a>\u001b[0m         facecolor \u001b[39m=\u001b[39m \u001b[39m'\u001b[39m\u001b[39mk\u001b[39m\u001b[39m'\u001b[39m,\n\u001b[1;32m     <a href='vscode-notebook-cell:/Users/mac/Desktop/Data%20Analysis/imdbnlp.ipynb#X21sZmlsZQ%3D%3D?line=9'>10</a>\u001b[0m         edgecolor\u001b[39m=\u001b[39m\u001b[39m'\u001b[39m\u001b[39mk\u001b[39m\u001b[39m'\u001b[39m )\n\u001b[1;32m     <a href='vscode-notebook-cell:/Users/mac/Desktop/Data%20Analysis/imdbnlp.ipynb#X21sZmlsZQ%3D%3D?line=10'>11</a>\u001b[0m     plt\u001b[39m.\u001b[39mimshow(worcloud, interpolation\u001b[39m=\u001b[39m \u001b[39m'\u001b[39m\u001b[39m bilinear\u001b[39m\u001b[39m'\u001b[39m)\n",
      "\u001b[0;31mTypeError\u001b[0m: 'module' object is not callable"
     ]
    }
   ],
   "source": [
    "\n",
    "df_text = df.text.values\n",
    "worcloud_d(df_text)\n",
    "\n"
   ]
  },
  {
   "cell_type": "code",
   "execution_count": 71,
   "metadata": {},
   "outputs": [
    {
     "name": "stdout",
     "output_type": "stream",
     "text": [
      "['I grew up (b. 1965) watching and loving the Thunderbirds. All my mates at school watched. We played \"Thunderbirds\" before school, during lunch and after school. We all wanted to be Virgil or Scott. No one wanted to be Alan. Counting down from 5 became an art form. I took my children to see the movie hoping they would get a glimpse of what I loved as a child. How bitterly disappointing. The only high point was the snappy theme tune. Not that it could compare with the original score of the Thunderbirds. Thankfully early Saturday mornings one television channel still plays reruns of the series Gerry Anderson and his wife created. Jonatha Frakes should hand in his directors chair, his version was completely hopeless. A waste of film. Utter rubbish. A CGI remake may be acceptable but replacing marionettes with Homo sapiens subsp. sapiens was a huge error of judgment.'\n",
      " \"When I put this movie in my DVD player, and sat down with a coke and some chips, I had some expectations. I was hoping that this movie would contain some of the strong-points of the first movie: Awsome animation, good flowing story, excellent voice cast, funny comedy and a kick-ass soundtrack. But, to my disappointment, not any of this is to be found in Atlantis: Milo's Return. Had I read some reviews first, I might not have been so let down. The following paragraph will be directed to those who have seen the first movie, and who enjoyed it primarily for the points mentioned.<br /><br />When the first scene appears, your in for a shock if you just picked Atlantis: Milo's Return from the display-case at your local videoshop (or whatever), and had the expectations I had. The music feels as a bad imitation of the first movie, and the voice cast has been replaced by a not so fitting one. (With the exception of a few characters, like the voice of Sweet). The actual drawings isnt that bad, but the animation in particular is a sad sight. The storyline is also pretty weak, as its more like three episodes of Schooby-Doo than the single adventurous story we got the last time. But dont misunderstand, it's not very good Schooby-Doo episodes. I didnt laugh a single time, although I might have sniggered once or twice.<br /><br />To the audience who haven't seen the first movie, or don't especially care for a similar sequel, here is a fast review of this movie as a stand-alone product: If you liked schooby-doo, you might like this movie. If you didn't, you could still enjoy this movie if you have nothing else to do. And I suspect it might be a good kids movie, but I wouldn't know. It might have been better if Milo's Return had been a three-episode series on a cartoon channel, or on breakfast TV.\"\n",
      " 'Why do people who do not know what a particular time in the past was like feel the need to try to define that time for others? Replace Woodstock with the Civil War and the Apollo moon-landing with the Titanic sinking and you\\'ve got as realistic a flick as this formulaic soap opera populated entirely by low-life trash. Is this what kids who were too young to be allowed to go to Woodstock and who failed grade school composition do? \"I\\'ll show those old meanies, I\\'ll put out my own movie and prove that you don\\'t have to know nuttin about your topic to still make money!\" Yeah, we already know that. The one thing watching this film did for me was to give me a little insight into underclass thinking. The next time I see a slut in a bar who looks like Diane Lane, I\\'m running the other way. It\\'s child abuse to let parents that worthless raise kids. It\\'s audience abuse to simply stick Woodstock and the moonlanding into a flick as if that ipso facto means the film portrays 1969.'\n",
      " ...\n",
      " 'My wife and I watched this movie because we plan to visit Sicily and Stromboli soon. Fortunately (or unfortunately) the landscape and seascape (complete with tuna) are the only believable members of this cast. We expected reasonable well-written and well-acted movie, but were disappointed. Its only redeeming grace is an extended and remarkable fishing sequence full of authenticity: thrashing tuna, nets, wooden boats with long oars, and passionate, if superstitious, fishermen.<br /><br />The movie\\'s sequencing is stagy, its dialogue stilted, and the acting ranges from stiff to completely \"over-the-top.\" One scene, in which Bergman stresses out as her macho, native and naïve husband sics his ferret on an \"innocent\" (but apparently already deceased) rabbit would be perfect grist for a Monty Python skit.<br /><br />When the volcano blew we hoped for a merciful end to the suffering (ours and the casts\\'). Unfortunately, the movie continues to flail on, staggering finally to a melodramatic and absurd ending. Unless you\\'re really into old-time tuna fishing, pass this hokey effort by.'\n",
      " 'When I first watched Flatliners, I was amazed. It had all the necessary features of a good movie: the cast was superb, the plot was superb, and in the case of thrillers, there was genuine \"thrills\" throughout.<br /><br />Keifer Sutherland offered a marvelous performance as the male lead in the piece, portraying a scientist who believes he can find the answers to life and death by killing himself and then coming back to life, essentially \"stealing\" death\\'s secrets away. Kevin Bacon offers an excellent performance as the more morally decent counterpart to Keifer, while Julia Roberts offers her most convincing role. William Baldwin portrays a student who excels in class and, apparently, intercourse. And Oliver Platt, in another outstanding performance, portrays the voice of reason for the group and the most innocent.<br /><br />The story is relatively simple, yet original, and the acting is refreshing-- definitely a stand out film for the genre, and one that has set the standard for measuring other thrillers for me.<br /><br />8/10.'\n",
      " 'Why would this film be so good, but only gross an estimated $95,000,000 and have NO award nominations? John Travolta knows what he\\'s doing. He knows he\\'s Michael, a cigar smoking, womanizing, magical arch angel that came down to live with a dying lady and is now in a car with the staff of \"The National Mirror\" and their dog, Sparky, on the way to Chicago. It then turns into a road trip that\\'s both horrible AND great. I don\\'t even think the death scenes (3 to be exact) make this a tearjerker. The soundtrack is the best with \"Heaven Is My Home\", \"Up Around The Bend\", and \"Chains Of Fools\". I have very great expectations about this and I say that it should have had a little more respect in the 90\\'s. Read my comment. Bye!']\n"
     ]
    }
   ],
   "source": [
    "print(df_text)"
   ]
  },
  {
   "cell_type": "code",
   "execution_count": null,
   "metadata": {},
   "outputs": [
    {
     "ename": "SyntaxError",
     "evalue": "invalid syntax (60183640.py, line 5)",
     "output_type": "error",
     "traceback": [
      "\u001b[0;36m  Input \u001b[0;32mIn [30]\u001b[0;36m\u001b[0m\n\u001b[0;31m    .join\u001b[0m\n\u001b[0m    ^\u001b[0m\n\u001b[0;31mSyntaxError\u001b[0m\u001b[0;31m:\u001b[0m invalid syntax\n"
     ]
    }
   ],
   "source": [
    "def processor(text):\n",
    "    text = re.sub('<[^>]*>','',text)\n",
    "    emojis = re.findall('(?::|;|=)(?:-)?(?:\\)|\\(|D|P)', text )\n",
    "    text =re. sub('[\\W]+',' ',text.lower()) +\\\n",
    "    .join\n",
    "\n",
    "\n"
   ]
  },
  {
   "cell_type": "code",
   "execution_count": null,
   "metadata": {},
   "outputs": [],
   "source": []
  }
 ],
 "metadata": {
  "kernelspec": {
   "display_name": "Python 3.9.12 ('base')",
   "language": "python",
   "name": "python3"
  },
  "language_info": {
   "codemirror_mode": {
    "name": "ipython",
    "version": 3
   },
   "file_extension": ".py",
   "mimetype": "text/x-python",
   "name": "python",
   "nbconvert_exporter": "python",
   "pygments_lexer": "ipython3",
   "version": "3.9.12"
  },
  "orig_nbformat": 4,
  "vscode": {
   "interpreter": {
    "hash": "7b34b089ce0dfc9935940e0a22050b2949fa617f7a2b73925623c261bed16aeb"
   }
  }
 },
 "nbformat": 4,
 "nbformat_minor": 2
}
